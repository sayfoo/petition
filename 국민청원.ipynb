{
 "cells": [
  {
   "cell_type": "markdown",
   "metadata": {},
   "source": [
    "----\n",
    "#### <font color=\"yellow\">국민청원 사이트에서 청원 제목 스크롤 하기</font>\n",
    "----"
   ]
  },
  {
   "cell_type": "code",
   "execution_count": null,
   "metadata": {},
   "outputs": [],
   "source": [
    "from bs4 import BeautifulSoup\n",
    "from urllib.request import urlopen\n",
    "from urllib.parse import quote_plus\n",
    "from selenium import webdriver\n",
    "\n",
    "# 국민청원 url\n",
    "url = \"https://www1.president.go.kr/petitions/?c=0&only=1&page=1&order=1\"\n",
    "\n",
    "driver = webdriver.Chrome()\n",
    "driver.get(url)\n",
    "driver.implicitly_wait(3)\n",
    "\n",
    "html = driver.page_source\n",
    "soup = BeautifulSoup(html, \"html.parser\")\n",
    "petition_table = soup.find(\"ul\", class_=\"petition_list\")\n",
    "print(type(petition_table))\n",
    "for i, title in enumerate(petition_table.find_all(\"div\", class_=\"bl_subject\"), start=1):\n",
    "    print(f\"[{i:>02}] {title.a.get_text().replace('제목 ', '')}\")\n",
    "\n",
    "driver.close()"
   ]
  }
 ],
 "metadata": {
  "kernelspec": {
   "display_name": "Python 3",
   "language": "python",
   "name": "python3"
  },
  "language_info": {
   "codemirror_mode": {
    "name": "ipython",
    "version": 3
   },
   "file_extension": ".py",
   "mimetype": "text/x-python",
   "name": "python",
   "nbconvert_exporter": "python",
   "pygments_lexer": "ipython3",
   "version": "3.7.4"
  }
 },
 "nbformat": 4,
 "nbformat_minor": 4
}
