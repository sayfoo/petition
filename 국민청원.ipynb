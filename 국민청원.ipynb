{
 "cells": [
  {
   "cell_type": "markdown",
   "metadata": {},
   "source": [
    "----\n",
    "#### <font color=\"yellow\">국민청원 사이트에서 청원 제목 스크롤 하기</font>\n",
    "----"
   ]
  },
  {
   "cell_type": "code",
   "execution_count": 8,
   "metadata": {},
   "outputs": [
    {
     "name": "stdout",
     "output_type": "stream",
     "text": [
      "<class 'bs4.element.Tag'>\n",
      "[01] 부모들이 안심하고 자녀를 보낼 수 있는 유치원을 만들어주세요.\n",
      "[02] 150여명의 직원이 실직자가 되었습니다\n",
      "[03] 청소년을 착취하며 성장한 1:1 영어 교육업체 ******-에 대한 감사 및 사법조치가 시급합니다. (온오프라인 병합 인터넷강의 학원)\n",
      "[04] 부실공사 **건설과 부실을 관가하는 시행사 lh공사를 고발합니다.\n",
      "[05] 고교교사가 제 자녀의 학생부에 악의적 허위내용을 기재하여 수시전형에서 모두 탈락하게 되었습니다.\n",
      "[06] 국회에서는 법안으로 인질 잡고 협상하는 카드로 사용하지 말아 주시기 바랍니다.\n",
      "[07] 국회의원 임기 제한제 도입을 촉구합니다\n",
      "[08] 처음학교로 시스템 개선이 필요합니다.\n",
      "[09] 중증환자 개인 간병비 너무 힘들어요.\n",
      "[10] 언제까지 재판을 해야 하는가요?.... 제발 도와주세요\n",
      "[11] **당 지역 위원장의 군의원에 대한 성추행 사건에 대한 청원\n",
      "[12] 수능성적표 부정확인한 인원 전원 0점 처리 바랍니다.\n",
      "[13] 오늘도 자살충동을 느끼며 이글을 씁니다! 개고양이 식용종식해주세요!!\n",
      "[14] 천안시 광덕면 원덕리 소각장건립을 막아주세요\n",
      "[15] 창원 **터널 5중 추돌사고, 저희 할아버지의 죽음과 같은 사고가 다시는 일어나지 않게 해주세요.\n"
     ]
    }
   ],
   "source": [
    "from bs4 import BeautifulSoup\n",
    "from urllib.request import urlopen\n",
    "from urllib.parse import quote_plus\n",
    "from selenium import webdriver\n",
    "\n",
    "# 국민청원 url\n",
    "url = \"https://www1.president.go.kr/petitions/?c=0&only=1&page=1&order=1\"\n",
    "\n",
    "driver = webdriver.Chrome()\n",
    "driver.get(url)\n",
    "driver.implicitly_wait(3)\n",
    "\n",
    "html = driver.page_source\n",
    "soup = BeautifulSoup(html, \"html.parser\")\n",
    "petition_table = soup.find(\"ul\", class_=\"petition_list\")\n",
    "print(type(petition_table))\n",
    "for i, title in enumerate(petition_table.find_all(\"div\", class_=\"bl_subject\"), start=1):\n",
    "    print(f\"[{i:>02}] {title.a.get_text().replace('제목 ', '')}\")\n",
    "\n",
    "driver.close()"
   ]
  },
  {
   "cell_type": "code",
   "execution_count": 26,
   "metadata": {},
   "outputs": [
    {
     "name": "stdout",
     "output_type": "stream",
     "text": [
      "<a class=\"cb relpy_w\" href=\"/petitions/583839\">\n",
      " <span class=\"sound_only\">\n",
      "  제목\n",
      " </span>\n",
      " 철도공단의 무성의 무책임을 바로 잡아 주세여\n",
      "</a>\n"
     ]
    }
   ],
   "source": [
    "print(title.a.prettify())"
   ]
  },
  {
   "cell_type": "code",
   "execution_count": 9,
   "metadata": {},
   "outputs": [
    {
     "name": "stdout",
     "output_type": "stream",
     "text": [
      " D 드라이브의 볼륨에는 이름이 없습니다.\n",
      " 볼륨 일련 번호: 940C-F3F2\n",
      "\n",
      " D:\\git\\tutorial 디렉터리\n",
      "\n",
      "2019-12-03  오후 02:22    <DIR>          .\n",
      "2019-12-03  오후 02:22    <DIR>          ..\n",
      "2019-12-02  오후 04:18    <DIR>          .ipynb_checkpoints\n",
      "2019-11-12  오후 08:06         8,835,584 chromedriver.exe\n",
      "2019-12-03  오후 02:22    <DIR>          petition\n",
      "2019-12-03  오전 09:22             4,202 국민청원.ipynb\n",
      "               2개 파일           8,839,786 바이트\n",
      "               4개 디렉터리  200,336,691,200 바이트 남음\n"
     ]
    }
   ],
   "source": [
    "!dir\n"
   ]
  },
  {
   "cell_type": "code",
   "execution_count": null,
   "metadata": {},
   "outputs": [],
   "source": []
  }
 ],
 "metadata": {
  "kernelspec": {
   "display_name": "Python 3",
   "language": "python",
   "name": "python3"
  },
  "language_info": {
   "codemirror_mode": {
    "name": "ipython",
    "version": 3
   },
   "file_extension": ".py",
   "mimetype": "text/x-python",
   "name": "python",
   "nbconvert_exporter": "python",
   "pygments_lexer": "ipython3",
   "version": "3.7.4"
  }
 },
 "nbformat": 4,
 "nbformat_minor": 4
}
